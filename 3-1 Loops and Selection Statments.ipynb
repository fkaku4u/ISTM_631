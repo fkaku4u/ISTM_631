{
 "cells": [
  {
   "cell_type": "code",
   "execution_count": 2,
   "metadata": {},
   "outputs": [
    {
     "ename": "NameError",
     "evalue": "name 'Print' is not defined",
     "output_type": "error",
     "traceback": [
      "\u001b[1;31m---------------------------------------------------------------------------\u001b[0m",
      "\u001b[1;31mNameError\u001b[0m                                 Traceback (most recent call last)",
      "\u001b[1;32m<ipython-input-2-ab72d24ae619>\u001b[0m in \u001b[0;36m<module>\u001b[1;34m\u001b[0m\n\u001b[0;32m      5\u001b[0m \u001b[1;32mfor\u001b[0m \u001b[0meachPass\u001b[0m \u001b[1;32min\u001b[0m \u001b[0mrange\u001b[0m\u001b[1;33m(\u001b[0m\u001b[1;36m4\u001b[0m\u001b[1;33m)\u001b[0m\u001b[1;33m:\u001b[0m\u001b[1;33m\u001b[0m\u001b[1;33m\u001b[0m\u001b[0m\n\u001b[0;32m      6\u001b[0m \u001b[1;33m\u001b[0m\u001b[0m\n\u001b[1;32m----> 7\u001b[1;33m     \u001b[0mPrint\u001b[0m\u001b[1;33m(\u001b[0m\u001b[1;34m\"Its alive!\"\u001b[0m\u001b[1;33m,\u001b[0m\u001b[0mend\u001b[0m \u001b[1;33m=\u001b[0m \u001b[1;34m\"\"\u001b[0m\u001b[1;33m)\u001b[0m\u001b[1;33m\u001b[0m\u001b[1;33m\u001b[0m\u001b[0m\n\u001b[0m",
      "\u001b[1;31mNameError\u001b[0m: name 'Print' is not defined"
     ]
    }
   ],
   "source": [
    "#3.1 Loops and Selection Statements \n",
    "#Definite Iteration(predefined)& Indefinite Iteration\n",
    "#Python's for loop supports Definite Iteration \n",
    "\n",
    "for eachPass in range(4):\n",
    "\n",
    "    Print(\"Its alive!\",end = \"\")\n"
   ]
  },
  {
   "cell_type": "code",
   "execution_count": 3,
   "metadata": {},
   "outputs": [
    {
     "ename": "NameError",
     "evalue": "name 'Print' is not defined",
     "output_type": "error",
     "traceback": [
      "\u001b[1;31m---------------------------------------------------------------------------\u001b[0m",
      "\u001b[1;31mNameError\u001b[0m                                 Traceback (most recent call last)",
      "\u001b[1;32m<ipython-input-3-ab72d24ae619>\u001b[0m in \u001b[0;36m<module>\u001b[1;34m\u001b[0m\n\u001b[0;32m      5\u001b[0m \u001b[1;32mfor\u001b[0m \u001b[0meachPass\u001b[0m \u001b[1;32min\u001b[0m \u001b[0mrange\u001b[0m\u001b[1;33m(\u001b[0m\u001b[1;36m4\u001b[0m\u001b[1;33m)\u001b[0m\u001b[1;33m:\u001b[0m\u001b[1;33m\u001b[0m\u001b[1;33m\u001b[0m\u001b[0m\n\u001b[0;32m      6\u001b[0m \u001b[1;33m\u001b[0m\u001b[0m\n\u001b[1;32m----> 7\u001b[1;33m     \u001b[0mPrint\u001b[0m\u001b[1;33m(\u001b[0m\u001b[1;34m\"Its alive!\"\u001b[0m\u001b[1;33m,\u001b[0m\u001b[0mend\u001b[0m \u001b[1;33m=\u001b[0m \u001b[1;34m\"\"\u001b[0m\u001b[1;33m)\u001b[0m\u001b[1;33m\u001b[0m\u001b[1;33m\u001b[0m\u001b[0m\n\u001b[0m",
      "\u001b[1;31mNameError\u001b[0m: name 'Print' is not defined"
     ]
    }
   ],
   "source": [
    "#3.1 Loops and Selection Statements \n",
    "#Definite Iteration(predefined)& Indefinite Iteration\n",
    "#Python's for loop supports Definite Iteration \n",
    "\n",
    "for eachPass in range(4):\n",
    "\n",
    "    Print(\"Its alive!\",end = \"\")\n"
   ]
  },
  {
   "cell_type": "code",
   "execution_count": 4,
   "metadata": {},
   "outputs": [
    {
     "name": "stdout",
     "output_type": "stream",
     "text": [
      "Its alive!Its alive!Its alive!Its alive!"
     ]
    }
   ],
   "source": [
    "#3.1 Loops and Selection Statements \n",
    "#Definite Iteration(predefined)& Indefinite Iteration\n",
    "#Python's for loop supports Definite Iteration \n",
    "\n",
    "for eachPass in range(4):\n",
    "\n",
    "    print(\"Its alive!\",end = \"\")\n"
   ]
  },
  {
   "cell_type": "code",
   "execution_count": 6,
   "metadata": {},
   "outputs": [
    {
     "ename": "IndentationError",
     "evalue": "expected an indented block (<ipython-input-6-bf174c44845c>, line 7)",
     "output_type": "error",
     "traceback": [
      "\u001b[1;36m  File \u001b[1;32m\"<ipython-input-6-bf174c44845c>\"\u001b[1;36m, line \u001b[1;32m7\u001b[0m\n\u001b[1;33m    print(\"Its alive!\",end = \"\")\u001b[0m\n\u001b[1;37m    ^\u001b[0m\n\u001b[1;31mIndentationError\u001b[0m\u001b[1;31m:\u001b[0m expected an indented block\n"
     ]
    }
   ],
   "source": [
    "    #3.1 Loops and Selection Statements \n",
    "#Definite Iteration(predefined)& Indefinite Iteration\n",
    "#Python's for loop supports Definite Iteration \n",
    "\n",
    "for eachPass in range(4): #Loop Header \n",
    "\n",
    "    print(\"Its alive!\",end = \"\")\n"
   ]
  },
  {
   "cell_type": "code",
   "execution_count": 8,
   "metadata": {},
   "outputs": [
    {
     "ename": "IndentationError",
     "evalue": "expected an indented block (<ipython-input-8-bf174c44845c>, line 7)",
     "output_type": "error",
     "traceback": [
      "\u001b[1;36m  File \u001b[1;32m\"<ipython-input-8-bf174c44845c>\"\u001b[1;36m, line \u001b[1;32m7\u001b[0m\n\u001b[1;33m    print(\"Its alive!\",end = \"\")\u001b[0m\n\u001b[1;37m    ^\u001b[0m\n\u001b[1;31mIndentationError\u001b[0m\u001b[1;31m:\u001b[0m expected an indented block\n"
     ]
    }
   ],
   "source": [
    "    #3.1 Loops and Selection Statements \n",
    "#Definite Iteration(predefined)& Indefinite Iteration\n",
    "#Python's for loop supports Definite Iteration \n",
    "\n",
    "for eachPass in range(4): #Loop Header \n",
    "\n",
    "    print(\"Its alive!\",end = \"\")"
   ]
  },
  {
   "cell_type": "code",
   "execution_count": 9,
   "metadata": {},
   "outputs": [
    {
     "name": "stdout",
     "output_type": "stream",
     "text": [
      "Its alive!Its alive!Its alive!Its alive!"
     ]
    }
   ],
   "source": [
    "#3.1 Loops and Selection Statements \n",
    "#Definite Iteration(predefined)& Indefinite Iteration\n",
    "#Python's for loop supports Definite Iteration \n",
    "\n",
    "for eachPass in range(4): \n",
    "\n",
    "    print(\"Its alive!\",end = \"\")"
   ]
  },
  {
   "cell_type": "code",
   "execution_count": 10,
   "metadata": {},
   "outputs": [
    {
     "name": "stdout",
     "output_type": "stream",
     "text": [
      "248"
     ]
    }
   ],
   "source": [
    "# Python's Exponentiation Operator\n",
    "\n",
    "number = 2\n",
    "exponent = 3\n",
    "product = 1\n",
    "\n",
    "for eachPass in range(exponent):\n",
    "    product = product * number\n",
    "    print(product, end = \"\")"
   ]
  },
  {
   "cell_type": "code",
   "execution_count": 11,
   "metadata": {},
   "outputs": [
    {
     "name": "stdout",
     "output_type": "stream",
     "text": [
      "2 4 8 "
     ]
    }
   ],
   "source": [
    "# Python's Exponentiation Operator\n",
    "\n",
    "number = 2\n",
    "exponent = 3\n",
    "product = 1\n",
    "\n",
    "for eachPass in range(exponent):\n",
    "    product = product * number\n",
    "    print(product, end = \" \")"
   ]
  },
  {
   "cell_type": "code",
   "execution_count": 12,
   "metadata": {},
   "outputs": [
    {
     "data": {
      "text/plain": [
       "8"
      ]
     },
     "execution_count": 12,
     "metadata": {},
     "output_type": "execute_result"
    }
   ],
   "source": [
    "product"
   ]
  },
  {
   "cell_type": "code",
   "execution_count": 14,
   "metadata": {},
   "outputs": [
    {
     "name": "stdout",
     "output_type": "stream",
     "text": [
      "2 4 8 "
     ]
    }
   ],
   "source": [
    "# Python's Exponentiation Operator\n",
    "#2**3 computes the value of 2 3 or 2*2*2\n",
    "# Using a loop (exponentiation loop!)to compute an exponentiation for a nonnegative exponent\n",
    "\n",
    "number = 2\n",
    "exponent = 3\n",
    "product = 1\n",
    "\n",
    "for eachPass in range(exponent):\n",
    "    product = product * number\n",
    "    print(product, end = \" \")"
   ]
  },
  {
   "cell_type": "code",
   "execution_count": 15,
   "metadata": {},
   "outputs": [
    {
     "name": "stdout",
     "output_type": "stream",
     "text": [
      "0 1 2 3 "
     ]
    }
   ],
   "source": [
    "#Count Controlled Loops\n",
    "\n",
    "for count in range(4):\n",
    "    print(count, end = \" \")"
   ]
  },
  {
   "cell_type": "code",
   "execution_count": 16,
   "metadata": {},
   "outputs": [],
   "source": [
    "# Loop to Calculate the factorial of 4\n",
    "# 1*2*3*4 = 24\n",
    "\n",
    "product = 1\n",
    "\n",
    "for count in range(4):\n",
    "    product = product * (count +1)\n",
    "    "
   ]
  },
  {
   "cell_type": "code",
   "execution_count": 17,
   "metadata": {},
   "outputs": [
    {
     "data": {
      "text/plain": [
       "24"
      ]
     },
     "execution_count": 17,
     "metadata": {},
     "output_type": "execute_result"
    }
   ],
   "source": [
    "product"
   ]
  },
  {
   "cell_type": "code",
   "execution_count": 18,
   "metadata": {},
   "outputs": [
    {
     "name": "stdout",
     "output_type": "stream",
     "text": [
      "1 2 6 24 "
     ]
    }
   ],
   "source": [
    "# Loop to Calculate the factorial of 4\n",
    "# 1*2*3*4 = 24\n",
    "\n",
    "product = 1\n",
    "\n",
    "for count in range(4):\n",
    "    product = product * (count +1)\n",
    "    print (product, end = \" \")"
   ]
  },
  {
   "cell_type": "code",
   "execution_count": 19,
   "metadata": {},
   "outputs": [
    {
     "name": "stdout",
     "output_type": "stream",
     "text": [
      "1 2 6 24 "
     ]
    }
   ],
   "source": [
    "# Loop to Calculate the factorial of 4\n",
    "# using 4 arguments supplied to range. This simplifies the code in the loop body\n",
    "# Be careful: the second argument of range , which should specify an integer greater \n",
    "# by 1 than the desired upper bound of the count. In this case 5 for desired upper bound 4\n",
    "# 1*2*3*4 = 24\n",
    "\n",
    "product = 1\n",
    "\n",
    "for count in range(1,5):\n",
    "    product = product * count \n",
    "    print (product, end = \" \")"
   ]
  },
  {
   "cell_type": "code",
   "execution_count": 20,
   "metadata": {},
   "outputs": [
    {
     "name": "stdout",
     "output_type": "stream",
     "text": [
      "Enter the lower bound:  1\n",
      "Enter the upper bound:  10\n",
      "1 3 6 10 15 21 28 36 45 55 "
     ]
    }
   ],
   "source": [
    "# Common operation in Computing --> accumulating a single result value from a series of values\n",
    "# Summation accumulates the sum of a sequence fo numbers form a lower bound through an upper bound\n",
    "# Use theSum instead of Sum because Sum is a built-in Python function\n",
    "\n",
    "lower = int(input(\"Enter the lower bound:  \"))\n",
    "upper = int(input(\"Enter the upper bound:  \"))\n",
    "\n",
    "theSum = 0\n",
    "\n",
    "for number in range (lower, upper +1):\n",
    "    theSum = theSum + number\n",
    "    print(theSum, end = \" \")"
   ]
  },
  {
   "cell_type": "code",
   "execution_count": 21,
   "metadata": {},
   "outputs": [
    {
     "name": "stdout",
     "output_type": "stream",
     "text": [
      "Enter the lower bound:  1\n",
      "Enter the upper bound:  10\n",
      "1 3 6 10 15 21 28 36 45 55 "
     ]
    }
   ],
   "source": [
    "# Common operation in Computing --> accumulating a single result value from a series of values\n",
    "# Summation accumulates the sum of a sequence fo numbers form a lower bound through an upper bound\n",
    "# Use theSum instead of Sum because Sum is a built-in Python function\n",
    "\n",
    "lower = int(input(\"Enter the lower bound:  \"))\n",
    "upper = int(input(\"Enter the upper bound:  \"))\n",
    "\n",
    "theSum = 0\n",
    "\n",
    "for number in range (lower, upper +1):\n",
    "    theSum = theSum + number\n",
    "    print(theSum, end = \" \")\n",
    "    "
   ]
  },
  {
   "cell_type": "code",
   "execution_count": 22,
   "metadata": {},
   "outputs": [
    {
     "ename": "SyntaxError",
     "evalue": "invalid syntax (<ipython-input-22-573fd9316c42>, line 17)",
     "output_type": "error",
     "traceback": [
      "\u001b[1;36m  File \u001b[1;32m\"<ipython-input-22-573fd9316c42>\"\u001b[1;36m, line \u001b[1;32m17\u001b[0m\n\u001b[1;33m    a = += 3  # Equivalent to a = a + 3\u001b[0m\n\u001b[1;37m        ^\u001b[0m\n\u001b[1;31mSyntaxError\u001b[0m\u001b[1;31m:\u001b[0m invalid syntax\n"
     ]
    }
   ],
   "source": [
    "#Augumented Assignment Operations:\n",
    "#Definition: An assignment operation that performs a designated operation, such as addition, before storing \n",
    "#the result in a variable\n",
    "#Expressions such as x = x +1 or X = X +2 are so commonly used in l oops that\n",
    "# Python includes abbreviated forms for them\n",
    "#\n",
    "#\n",
    "# a = 17\n",
    "# s = \"Hi\"\n",
    "# a = += 3  # Equivalent to a = a + 3\n",
    "# a = -= 3  # Equivalent to a = a - 3\n",
    "# a = *= 3  # Equivalent to a = a * 3\n",
    "# a = /= 3  # Equivalent to a = a / 3\n",
    "# a = %= 3  # Equivalent to a = a % 3\n",
    "# s += 'there'  # Equivalent to s = s + 'there'\n",
    "\n",
    "a += 3  # Equivalent to a = a + 3\n",
    "a += \" \"\n",
    "a -= 3  # Equivalent to a = a - 3\n",
    "a += \" \"\n",
    "a *= 3  # Equivalent to a = a * 3\n",
    "a += \" \"\n",
    "a /= 3  # Equivalent to a = a / 3\n",
    "a += \" \"\n",
    "a %= 3  # Equivalent to a = a % 3\n",
    "a += \" \"\n",
    "s += 'there'  # Equivalent to s = s + 'there'\n",
    "s\n",
    "\n"
   ]
  },
  {
   "cell_type": "code",
   "execution_count": 29,
   "metadata": {},
   "outputs": [
    {
     "name": "stdout",
     "output_type": "stream",
     "text": [
      "20 17 51 17.0 2.0 "
     ]
    },
    {
     "data": {
      "text/plain": [
       "'Hi there'"
      ]
     },
     "execution_count": 29,
     "metadata": {},
     "output_type": "execute_result"
    }
   ],
   "source": [
    "# a = 17\n",
    "# s = \"Hi\"\n",
    "# a += 3  # Equivalent to a = a + 3\n",
    "# a -= 3  # Equivalent to a = a - 3\n",
    "# a *= 3  # Equivalent to a = a * 3\n",
    "# a /= 3  # Equivalent to a = a / 3\n",
    "# 09\n",
    "# s += 'there'  # Equivalent to s = s + 'there'\n",
    "\n",
    "a = 17\n",
    "s = \"Hi\"\n",
    "a += 3 \n",
    "print(a, end=\" \") \n",
    "a -= 3  \n",
    "print(a, end=\" \")\n",
    "a *= 3  \n",
    "print(a, end=\" \")\n",
    "a /= 3  \n",
    "print(a, end=\" \")\n",
    "a %= 3  \n",
    "print(a, end=\" \")\n",
    "s += \" there\"\n",
    "s"
   ]
  },
  {
   "cell_type": "code",
   "execution_count": 30,
   "metadata": {},
   "outputs": [
    {
     "name": "stdout",
     "output_type": "stream",
     "text": [
      "2 "
     ]
    }
   ],
   "source": [
    "a = 17\n",
    "a %= 3  \n",
    "print(a, end=\" \")"
   ]
  },
  {
   "cell_type": "code",
   "execution_count": 31,
   "metadata": {},
   "outputs": [
    {
     "name": "stdout",
     "output_type": "stream",
     "text": [
      "2\n"
     ]
    }
   ],
   "source": [
    "a = 17\n",
    "a %= 3  \n",
    "print(a)"
   ]
  },
  {
   "cell_type": "code",
   "execution_count": 32,
   "metadata": {},
   "outputs": [
    {
     "data": {
      "text/plain": [
       "[0, 1, 2, 3]"
      ]
     },
     "execution_count": 32,
     "metadata": {},
     "output_type": "execute_result"
    }
   ],
   "source": [
    "list (range(4))"
   ]
  },
  {
   "cell_type": "code",
   "execution_count": 33,
   "metadata": {},
   "outputs": [
    {
     "data": {
      "text/plain": [
       "[1, 2, 3, 4]"
      ]
     },
     "execution_count": 33,
     "metadata": {},
     "output_type": "execute_result"
    }
   ],
   "source": [
    "list (range (1, 5))"
   ]
  },
  {
   "cell_type": "code",
   "execution_count": 34,
   "metadata": {},
   "outputs": [
    {
     "name": "stdout",
     "output_type": "stream",
     "text": [
      "H  *i  *   *t  *h  *e  *r  *e  *"
     ]
    }
   ],
   "source": [
    "# Traversing the Contents of a Data Sequence\n",
    "list (range(4))\n",
    "list (range (1, 5))\n",
    "\n",
    "for character in \"Hi there\":\n",
    "    print (character, end= \"  *\")"
   ]
  },
  {
   "cell_type": "code",
   "execution_count": 35,
   "metadata": {},
   "outputs": [
    {
     "data": {
      "text/plain": [
       "[1, 2, 3, 4]"
      ]
     },
     "execution_count": 35,
     "metadata": {},
     "output_type": "execute_result"
    }
   ],
   "source": [
    "# Traversing the Contents of a Data Sequence\n",
    "list (range(4))\n",
    "list (range (1, 5))"
   ]
  },
  {
   "cell_type": "code",
   "execution_count": 36,
   "metadata": {},
   "outputs": [
    {
     "data": {
      "text/plain": [
       "[1, 3, 5]"
      ]
     },
     "execution_count": 36,
     "metadata": {},
     "output_type": "execute_result"
    }
   ],
   "source": [
    "# Specifiying the steps in the range\n",
    "# range function can take a third argument that allows you to specifiy a step value\n",
    "\n",
    "# Using 2 is like saying list every other number \n",
    "list (range (1,6,2))"
   ]
  },
  {
   "cell_type": "code",
   "execution_count": 37,
   "metadata": {},
   "outputs": [
    {
     "data": {
      "text/plain": [
       "[1, 3, 5]"
      ]
     },
     "execution_count": 37,
     "metadata": {},
     "output_type": "execute_result"
    }
   ],
   "source": [
    "# Specifiying the steps in the range\n",
    "# range function can take a third argument that allows you to specifiy a step value\n",
    "\n",
    "# Using 2 is like saying list every other number \n",
    "list (range (1,6,2))"
   ]
  },
  {
   "cell_type": "code",
   "execution_count": 39,
   "metadata": {},
   "outputs": [
    {
     "name": "stdout",
     "output_type": "stream",
     "text": [
      "2\n",
      "6\n",
      "12\n",
      "20\n",
      "30\n"
     ]
    }
   ],
   "source": [
    "theSum = 0\n",
    "for count in range(2,11,2):\n",
    "    theSum += count\n",
    "    print(theSum)\n",
    "\n"
   ]
  },
  {
   "cell_type": "code",
   "execution_count": null,
   "metadata": {},
   "outputs": [],
   "source": []
  },
  {
   "cell_type": "code",
   "execution_count": 40,
   "metadata": {},
   "outputs": [
    {
     "ename": "SyntaxError",
     "evalue": "invalid syntax (<ipython-input-40-0161e6a2ef94>, line 2)",
     "output_type": "error",
     "traceback": [
      "\u001b[1;36m  File \u001b[1;32m\"<ipython-input-40-0161e6a2ef94>\"\u001b[1;36m, line \u001b[1;32m2\u001b[0m\n\u001b[1;33m    for count in range(10, 0 -1)\u001b[0m\n\u001b[1;37m                                ^\u001b[0m\n\u001b[1;31mSyntaxError\u001b[0m\u001b[1;31m:\u001b[0m invalid syntax\n"
     ]
    }
   ],
   "source": [
    "# Some times a problem calls for counting in the opposite direction, from the upper bound down to the lower bound\n",
    "for count in range(10, 0 -1)\n",
    "print(count, end = \"\")"
   ]
  },
  {
   "cell_type": "code",
   "execution_count": 41,
   "metadata": {},
   "outputs": [
    {
     "ename": "IndentationError",
     "evalue": "expected an indented block (<ipython-input-41-c2567221ec9d>, line 3)",
     "output_type": "error",
     "traceback": [
      "\u001b[1;36m  File \u001b[1;32m\"<ipython-input-41-c2567221ec9d>\"\u001b[1;36m, line \u001b[1;32m3\u001b[0m\n\u001b[1;33m    print(count, end = \"\")\u001b[0m\n\u001b[1;37m    ^\u001b[0m\n\u001b[1;31mIndentationError\u001b[0m\u001b[1;31m:\u001b[0m expected an indented block\n"
     ]
    }
   ],
   "source": [
    "# Some times a problem calls for counting in the opposite direction, from the upper bound down to the lower bound\n",
    "for count in range(10, 0 -1):\n",
    "print(count, end = \"\")"
   ]
  },
  {
   "cell_type": "code",
   "execution_count": 42,
   "metadata": {},
   "outputs": [
    {
     "ename": "SyntaxError",
     "evalue": "invalid syntax (<ipython-input-42-7bc9477853e3>, line 2)",
     "output_type": "error",
     "traceback": [
      "\u001b[1;36m  File \u001b[1;32m\"<ipython-input-42-7bc9477853e3>\"\u001b[1;36m, line \u001b[1;32m2\u001b[0m\n\u001b[1;33m    for count in range(10, 0 -1)\u001b[0m\n\u001b[1;37m                                ^\u001b[0m\n\u001b[1;31mSyntaxError\u001b[0m\u001b[1;31m:\u001b[0m invalid syntax\n"
     ]
    }
   ],
   "source": [
    "# Some times a problem calls for counting in the opposite direction, from the upper bound down to the lower bound\n",
    "for count in range(10, 0 -1):\n",
    "    print(count, end = \"\")"
   ]
  },
  {
   "cell_type": "code",
   "execution_count": 47,
   "metadata": {},
   "outputs": [],
   "source": [
    "# Sometimes a problem calls for counting in the opposite direction, from the \n",
    "#upper bound down to the lower bound\n",
    "for count in range(10, 0 -1):\n",
    "    print(count, end = \"  \")\n",
    "    "
   ]
  },
  {
   "cell_type": "code",
   "execution_count": 48,
   "metadata": {},
   "outputs": [],
   "source": [
    "# Sometimes a problem calls for counting in the opposite direction, from the \n",
    "#upper bound down to the lower bound\n",
    "for count in range(10, 0 -1):\n",
    "    print(count, end = \"  \")"
   ]
  },
  {
   "cell_type": "code",
   "execution_count": 49,
   "metadata": {},
   "outputs": [],
   "source": [
    "# Sometimes a problem calls for counting in the opposite direction, from the \n",
    "#upper bound down to the lower bound\n",
    "for count in range(10, 0, -1):\n",
    "    print(count, end = \"  \")"
   ]
  },
  {
   "cell_type": "code",
   "execution_count": 50,
   "metadata": {},
   "outputs": [
    {
     "name": "stdout",
     "output_type": "stream",
     "text": [
      "2\n"
     ]
    }
   ],
   "source": [
    "a = 17\n",
    "a %= 3  \n",
    "print(a)\n"
   ]
  },
  {
   "cell_type": "code",
   "execution_count": 51,
   "metadata": {},
   "outputs": [],
   "source": [
    "for count in range(10, 0 -1):\n",
    "    print(count, end = \"\")"
   ]
  },
  {
   "cell_type": "code",
   "execution_count": 52,
   "metadata": {},
   "outputs": [],
   "source": [
    "for count in range(10, 1 -1):\n",
    "    print(count, end = \"  \")"
   ]
  },
  {
   "cell_type": "code",
   "execution_count": 55,
   "metadata": {},
   "outputs": [
    {
     "name": "stdout",
     "output_type": "stream",
     "text": [
      "10 9 8 7 6 5 4 3 2 1 "
     ]
    }
   ],
   "source": [
    "for count in range(10, 0, -1):\n",
    "    print(count, end = \" \")\n"
   ]
  },
  {
   "cell_type": "code",
   "execution_count": 56,
   "metadata": {},
   "outputs": [
    {
     "name": "stdout",
     "output_type": "stream",
     "text": [
      "10 9 8 7 6 5 4 3 2 1 "
     ]
    }
   ],
   "source": [
    "# Sometimes a problem calls for counting in the opposite direction, from the \n",
    "#upper bound down to the lower bound\n",
    "for count in range(10, 0, -1):\n",
    "    print(count, end = \" \")"
   ]
  },
  {
   "cell_type": "code",
   "execution_count": 58,
   "metadata": {},
   "outputs": [
    {
     "ename": "SyntaxError",
     "evalue": "invalid syntax (<ipython-input-58-599449f72db4>, line 1)",
     "output_type": "error",
     "traceback": [
      "\u001b[1;36m  File \u001b[1;32m\"<ipython-input-58-599449f72db4>\"\u001b[1;36m, line \u001b[1;32m1\u001b[0m\n\u001b[1;33m    list range((10, 0, -1))\u001b[0m\n\u001b[1;37m         ^\u001b[0m\n\u001b[1;31mSyntaxError\u001b[0m\u001b[1;31m:\u001b[0m invalid syntax\n"
     ]
    }
   ],
   "source": [
    "list range((10, 0, -1))"
   ]
  },
  {
   "cell_type": "code",
   "execution_count": 59,
   "metadata": {},
   "outputs": [
    {
     "data": {
      "text/plain": [
       "[10, 9, 8, 7, 6, 5, 4, 3, 2, 1]"
      ]
     },
     "execution_count": 59,
     "metadata": {},
     "output_type": "execute_result"
    }
   ],
   "source": [
    "list (range(10, 0, -1))"
   ]
  },
  {
   "cell_type": "code",
   "execution_count": 60,
   "metadata": {},
   "outputs": [
    {
     "name": "stdout",
     "output_type": "stream",
     "text": [
      "1 2 3 4 5 "
     ]
    }
   ],
   "source": [
    "for count in range(5): \n",
    "    print(count + 1, end = \" \") "
   ]
  },
  {
   "cell_type": "code",
   "execution_count": 61,
   "metadata": {},
   "outputs": [
    {
     "name": "stdout",
     "output_type": "stream",
     "text": [
      "1 2 3 "
     ]
    }
   ],
   "source": [
    "for count in range(1, 4): \n",
    "    print(count, end = \" \") "
   ]
  },
  {
   "cell_type": "code",
   "execution_count": 62,
   "metadata": {},
   "outputs": [
    {
     "name": "stdout",
     "output_type": "stream",
     "text": [
      "1 3 5 "
     ]
    }
   ],
   "source": [
    "for count in range(1, 6, 2): \n",
    "    print(count, end = \" \") "
   ]
  },
  {
   "cell_type": "code",
   "execution_count": 63,
   "metadata": {},
   "outputs": [
    {
     "name": "stdout",
     "output_type": "stream",
     "text": [
      "6 5 4 3 2 "
     ]
    }
   ],
   "source": [
    "for count in range(6, 1, -1): \n",
    "    print(count, end = \" \") "
   ]
  },
  {
   "cell_type": "code",
   "execution_count": 66,
   "metadata": {},
   "outputs": [
    {
     "name": "stdout",
     "output_type": "stream",
     "text": [
      "1 Francis\n",
      "2 Francis\n",
      "3 Francis\n",
      "4 Francis\n",
      "5 Francis\n",
      "6 Francis\n",
      "7 Francis\n",
      "8 Francis\n",
      "9 Francis\n",
      "10 Francis\n",
      "11 Francis\n",
      "12 Francis\n",
      "13 Francis\n",
      "14 Francis\n",
      "15 Francis\n",
      "16 Francis\n",
      "17 Francis\n",
      "18 Francis\n",
      "19 Francis\n",
      "20 Francis\n",
      "21 Francis\n",
      "22 Francis\n",
      "23 Francis\n",
      "24 Francis\n",
      "25 Francis\n",
      "26 Francis\n",
      "27 Francis\n",
      "28 Francis\n",
      "29 Francis\n",
      "30 Francis\n",
      "31 Francis\n",
      "32 Francis\n",
      "33 Francis\n",
      "34 Francis\n",
      "35 Francis\n",
      "36 Francis\n",
      "37 Francis\n",
      "38 Francis\n",
      "39 Francis\n",
      "40 Francis\n",
      "41 Francis\n",
      "42 Francis\n",
      "43 Francis\n",
      "44 Francis\n",
      "45 Francis\n",
      "46 Francis\n",
      "47 Francis\n",
      "48 Francis\n",
      "49 Francis\n",
      "50 Francis\n",
      "51 Francis\n",
      "52 Francis\n",
      "53 Francis\n",
      "54 Francis\n",
      "55 Francis\n",
      "56 Francis\n",
      "57 Francis\n",
      "58 Francis\n",
      "59 Francis\n",
      "60 Francis\n",
      "61 Francis\n",
      "62 Francis\n",
      "63 Francis\n",
      "64 Francis\n",
      "65 Francis\n",
      "66 Francis\n",
      "67 Francis\n",
      "68 Francis\n",
      "69 Francis\n",
      "70 Francis\n",
      "71 Francis\n",
      "72 Francis\n",
      "73 Francis\n",
      "74 Francis\n",
      "75 Francis\n",
      "76 Francis\n",
      "77 Francis\n",
      "78 Francis\n",
      "79 Francis\n",
      "80 Francis\n",
      "81 Francis\n",
      "82 Francis\n",
      "83 Francis\n",
      "84 Francis\n",
      "85 Francis\n",
      "86 Francis\n",
      "87 Francis\n",
      "88 Francis\n",
      "89 Francis\n",
      "90 Francis\n",
      "91 Francis\n",
      "92 Francis\n",
      "93 Francis\n",
      "94 Francis\n",
      "95 Francis\n",
      "96 Francis\n",
      "97 Francis\n",
      "98 Francis\n",
      "99 Francis\n",
      "100 Francis\n"
     ]
    }
   ],
   "source": [
    "for count in range(100): \n",
    "    print(count + 1, end = \" Francis\\n\") "
   ]
  },
  {
   "cell_type": "code",
   "execution_count": 68,
   "metadata": {},
   "outputs": [
    {
     "name": "stdout",
     "output_type": "stream",
     "text": [
      "Francis\n",
      "\n",
      "Francis\n",
      "\n",
      "Francis\n",
      "\n",
      "Francis\n",
      "\n",
      "Francis\n",
      "\n",
      "Francis\n",
      "\n",
      "Francis\n",
      "\n",
      "Francis\n",
      "\n",
      "Francis\n",
      "\n",
      "Francis\n",
      "\n",
      "Francis\n",
      "\n",
      "Francis\n",
      "\n",
      "Francis\n",
      "\n",
      "Francis\n",
      "\n",
      "Francis\n",
      "\n",
      "Francis\n",
      "\n",
      "Francis\n",
      "\n",
      "Francis\n",
      "\n",
      "Francis\n",
      "\n",
      "Francis\n",
      "\n",
      "Francis\n",
      "\n",
      "Francis\n",
      "\n",
      "Francis\n",
      "\n",
      "Francis\n",
      "\n",
      "Francis\n",
      "\n",
      "Francis\n",
      "\n",
      "Francis\n",
      "\n",
      "Francis\n",
      "\n",
      "Francis\n",
      "\n",
      "Francis\n",
      "\n",
      "Francis\n",
      "\n",
      "Francis\n",
      "\n",
      "Francis\n",
      "\n",
      "Francis\n",
      "\n",
      "Francis\n",
      "\n",
      "Francis\n",
      "\n",
      "Francis\n",
      "\n",
      "Francis\n",
      "\n",
      "Francis\n",
      "\n",
      "Francis\n",
      "\n",
      "Francis\n",
      "\n",
      "Francis\n",
      "\n",
      "Francis\n",
      "\n",
      "Francis\n",
      "\n",
      "Francis\n",
      "\n",
      "Francis\n",
      "\n",
      "Francis\n",
      "\n",
      "Francis\n",
      "\n",
      "Francis\n",
      "\n",
      "Francis\n",
      "\n",
      "Francis\n",
      "\n",
      "Francis\n",
      "\n",
      "Francis\n",
      "\n",
      "Francis\n",
      "\n",
      "Francis\n",
      "\n",
      "Francis\n",
      "\n",
      "Francis\n",
      "\n",
      "Francis\n",
      "\n",
      "Francis\n",
      "\n",
      "Francis\n",
      "\n",
      "Francis\n",
      "\n",
      "Francis\n",
      "\n",
      "Francis\n",
      "\n",
      "Francis\n",
      "\n",
      "Francis\n",
      "\n",
      "Francis\n",
      "\n",
      "Francis\n",
      "\n",
      "Francis\n",
      "\n",
      "Francis\n",
      "\n",
      "Francis\n",
      "\n",
      "Francis\n",
      "\n",
      "Francis\n",
      "\n",
      "Francis\n",
      "\n",
      "Francis\n",
      "\n",
      "Francis\n",
      "\n",
      "Francis\n",
      "\n",
      "Francis\n",
      "\n",
      "Francis\n",
      "\n",
      "Francis\n",
      "\n",
      "Francis\n",
      "\n",
      "Francis\n",
      "\n",
      "Francis\n",
      "\n",
      "Francis\n",
      "\n",
      "Francis\n",
      "\n",
      "Francis\n",
      "\n",
      "Francis\n",
      "\n",
      "Francis\n",
      "\n",
      "Francis\n",
      "\n",
      "Francis\n",
      "\n",
      "Francis\n",
      "\n",
      "Francis\n",
      "\n",
      "Francis\n",
      "\n",
      "Francis\n",
      "\n",
      "Francis\n",
      "\n",
      "Francis\n",
      "\n",
      "Francis\n",
      "\n",
      "Francis\n",
      "\n",
      "Francis\n",
      "\n",
      "Francis\n",
      "\n",
      "Francis\n",
      "\n"
     ]
    }
   ],
   "source": [
    "for count in range(100): \n",
    "    print(\"Francis\\n\") "
   ]
  },
  {
   "cell_type": "code",
   "execution_count": 69,
   "metadata": {},
   "outputs": [
    {
     "name": "stdout",
     "output_type": "stream",
     "text": [
      "t  *e  *s  *t  *S  *t  *r  *i  *n  *g  *"
     ]
    }
   ],
   "source": [
    "for character in \"testString\":\n",
    "    print (character, end= \"  *\")"
   ]
  },
  {
   "cell_type": "code",
   "execution_count": 70,
   "metadata": {},
   "outputs": [
    {
     "ename": "SyntaxError",
     "evalue": "expression cannot contain assignment, perhaps you meant \"==\"? (<ipython-input-70-1576a40f2bf1>, line 3)",
     "output_type": "error",
     "traceback": [
      "\u001b[1;36m  File \u001b[1;32m\"<ipython-input-70-1576a40f2bf1>\"\u001b[1;36m, line \u001b[1;32m3\u001b[0m\n\u001b[1;33m    print (character, ord(character) + end= \" \")\u001b[0m\n\u001b[1;37m                      ^\u001b[0m\n\u001b[1;31mSyntaxError\u001b[0m\u001b[1;31m:\u001b[0m expression cannot contain assignment, perhaps you meant \"==\"?\n"
     ]
    }
   ],
   "source": [
    "testString = Python\n",
    "for character in testString:\n",
    "    print (character, ord(character) + end= \" \")"
   ]
  },
  {
   "cell_type": "code",
   "execution_count": 72,
   "metadata": {},
   "outputs": [
    {
     "name": "stdout",
     "output_type": "stream",
     "text": [
      "P 80\n",
      "y 121\n",
      "t 116\n",
      "h 104\n",
      "o 111\n",
      "n 110\n"
     ]
    }
   ],
   "source": [
    "testString = \"Python\"\n",
    "for character in testString:\n",
    "    print (character, ord(character))"
   ]
  },
  {
   "cell_type": "code",
   "execution_count": 73,
   "metadata": {},
   "outputs": [
    {
     "data": {
      "text/plain": [
       "'  four'"
      ]
     },
     "execution_count": 73,
     "metadata": {},
     "output_type": "execute_result"
    }
   ],
   "source": [
    "\"%6s\" % \"four\""
   ]
  },
  {
   "cell_type": "code",
   "execution_count": 74,
   "metadata": {},
   "outputs": [
    {
     "data": {
      "text/plain": [
       "'  four'"
      ]
     },
     "execution_count": 74,
     "metadata": {},
     "output_type": "execute_result"
    }
   ],
   "source": [
    "#Right justify\n",
    "\"%6s\" % \"four\""
   ]
  },
  {
   "cell_type": "code",
   "execution_count": 75,
   "metadata": {},
   "outputs": [
    {
     "data": {
      "text/plain": [
       "'  four'"
      ]
     },
     "execution_count": 75,
     "metadata": {},
     "output_type": "execute_result"
    }
   ],
   "source": [
    "#Left justify a string. Use \"s\" --> %,number of spaces, s --> for string\n",
    "\"%6s\" % \"four\"\n"
   ]
  },
  {
   "cell_type": "code",
   "execution_count": 76,
   "metadata": {},
   "outputs": [
    {
     "data": {
      "text/plain": [
       "'four  '"
      ]
     },
     "execution_count": 76,
     "metadata": {},
     "output_type": "execute_result"
    }
   ],
   "source": [
    "#Right justify a string. Use \"-s\" --> %,number of spaces, s --> for string\n",
    "\"%-6s\" % \"four\"\n"
   ]
  },
  {
   "cell_type": "code",
   "execution_count": 79,
   "metadata": {},
   "outputs": [
    {
     "name": "stdout",
     "output_type": "stream",
     "text": [
      "7 10000000\n",
      "8 100000000\n",
      "9 1000000000\n",
      "10 10000000000\n"
     ]
    }
   ],
   "source": [
    "for exponent in range (7, 11):\n",
    "    print (exponent,10 ** exponent)\n",
    "\n"
   ]
  },
  {
   "cell_type": "code",
   "execution_count": 80,
   "metadata": {},
   "outputs": [
    {
     "name": "stdout",
     "output_type": "stream",
     "text": [
      "7      10000000\n",
      "8     100000000\n",
      "9    1000000000\n",
      "10  10000000000\n"
     ]
    }
   ],
   "source": [
    "for exponent in range (7,11):\n",
    "    print (\"%-3d%12d\" % (exponent,10**exponent))"
   ]
  },
  {
   "cell_type": "code",
   "execution_count": 81,
   "metadata": {},
   "outputs": [
    {
     "ename": "IndentationError",
     "evalue": "unexpected indent (<ipython-input-81-bca132611121>, line 2)",
     "output_type": "error",
     "traceback": [
      "\u001b[1;36m  File \u001b[1;32m\"<ipython-input-81-bca132611121>\"\u001b[1;36m, line \u001b[1;32m2\u001b[0m\n\u001b[1;33m    print (Your salary is $\" +str(salary))\u001b[0m\n\u001b[1;37m    ^\u001b[0m\n\u001b[1;31mIndentationError\u001b[0m\u001b[1;31m:\u001b[0m unexpected indent\n"
     ]
    }
   ],
   "source": [
    "salary = 100.00 \n",
    "    print (Your salary is $\" +str(salary))"
   ]
  },
  {
   "cell_type": "code",
   "execution_count": 83,
   "metadata": {},
   "outputs": [
    {
     "ename": "IndentationError",
     "evalue": "unexpected indent (<ipython-input-83-f4b4fb594014>, line 2)",
     "output_type": "error",
     "traceback": [
      "\u001b[1;36m  File \u001b[1;32m\"<ipython-input-83-f4b4fb594014>\"\u001b[1;36m, line \u001b[1;32m2\u001b[0m\n\u001b[1;33m    print(\"Your salary is $\" +str(salary))\u001b[0m\n\u001b[1;37m    ^\u001b[0m\n\u001b[1;31mIndentationError\u001b[0m\u001b[1;31m:\u001b[0m unexpected indent\n"
     ]
    }
   ],
   "source": [
    "salary = 100.00 \n",
    "    print(\"Your salary is $\" +str(salary))"
   ]
  },
  {
   "cell_type": "code",
   "execution_count": 84,
   "metadata": {},
   "outputs": [
    {
     "ename": "IndentationError",
     "evalue": "unexpected indent (<ipython-input-84-f4b4fb594014>, line 2)",
     "output_type": "error",
     "traceback": [
      "\u001b[1;36m  File \u001b[1;32m\"<ipython-input-84-f4b4fb594014>\"\u001b[1;36m, line \u001b[1;32m2\u001b[0m\n\u001b[1;33m    print(\"Your salary is $\" +str(salary))\u001b[0m\n\u001b[1;37m    ^\u001b[0m\n\u001b[1;31mIndentationError\u001b[0m\u001b[1;31m:\u001b[0m unexpected indent\n"
     ]
    }
   ],
   "source": [
    "salary = 100.00 \n",
    "    print(\"Your salary is $\" +str(salary))"
   ]
  },
  {
   "cell_type": "code",
   "execution_count": 85,
   "metadata": {},
   "outputs": [
    {
     "name": "stdout",
     "output_type": "stream",
     "text": [
      "Your salary is $100.0\n"
     ]
    }
   ],
   "source": [
    "salary = 100.00 \n",
    "print(\"Your salary is $\" +str(salary))"
   ]
  },
  {
   "cell_type": "code",
   "execution_count": 86,
   "metadata": {},
   "outputs": [
    {
     "name": "stdout",
     "output_type": "stream",
     "text": [
      "Your salary is $100.00\n"
     ]
    }
   ],
   "source": [
    "salary = 100.00 \n",
    "print(\"Your salary is $%0.2f\" % salary)"
   ]
  },
  {
   "cell_type": "code",
   "execution_count": 87,
   "metadata": {},
   "outputs": [
    {
     "name": "stdout",
     "output_type": "stream",
     "text": [
      "Your salary is $100.00\n"
     ]
    }
   ],
   "source": [
    "salary = 100.00 \n",
    "print(\"Your salary is $%6.2f\" % salary)"
   ]
  },
  {
   "cell_type": "code",
   "execution_count": 88,
   "metadata": {},
   "outputs": [
    {
     "name": "stdout",
     "output_type": "stream",
     "text": [
      "Your salary is $100.00  \n"
     ]
    }
   ],
   "source": [
    "salary = 100.00 \n",
    "print(\"Your salary is $%-8.2f\" % salary)"
   ]
  },
  {
   "cell_type": "code",
   "execution_count": 89,
   "metadata": {},
   "outputs": [
    {
     "name": "stdout",
     "output_type": "stream",
     "text": [
      "Your salary is $24.32\n"
     ]
    }
   ],
   "source": [
    "#3.2 Questions\n",
    "amount = 24.325\n",
    "print(\"Your salary is $%0.2f\" % amount)"
   ]
  },
  {
   "cell_type": "code",
   "execution_count": 90,
   "metadata": {},
   "outputs": [
    {
     "name": "stdout",
     "output_type": "stream",
     "text": [
      "The area is 24.3\n"
     ]
    }
   ],
   "source": [
    "amount = 24.325\n",
    "print(\"The area is %0.1f\" % amount)"
   ]
  },
  {
   "cell_type": "code",
   "execution_count": 91,
   "metadata": {},
   "outputs": [
    {
     "name": "stdout",
     "output_type": "stream",
     "text": [
      "24.325000\n"
     ]
    }
   ],
   "source": [
    "amount = 24.325\n",
    "print(\"%7f\" % amount)"
   ]
  },
  {
   "cell_type": "code",
   "execution_count": 92,
   "metadata": {},
   "outputs": [
    {
     "ename": "SyntaxError",
     "evalue": "invalid character in identifier (<ipython-input-92-ef80c768f775>, line 9)",
     "output_type": "error",
     "traceback": [
      "\u001b[1;36m  File \u001b[1;32m\"<ipython-input-92-ef80c768f775>\"\u001b[1;36m, line \u001b[1;32m9\u001b[0m\n\u001b[1;33m    print(x – y)\u001b[0m\n\u001b[1;37m            ^\u001b[0m\n\u001b[1;31mSyntaxError\u001b[0m\u001b[1;31m:\u001b[0m invalid character in identifier\n"
     ]
    }
   ],
   "source": [
    "op = input(\"Enter an arithmetic operator: \")\n",
    "\n",
    "if op == \"+\":\n",
    "\n",
    "    print(x + y)\n",
    "\n",
    "elif op == \"-\":\n",
    "\n",
    "    print(x – y)\n",
    "\n",
    "elif op == \"*\":\n",
    "\n",
    "    print(x * y)\n",
    "\n",
    "elif op == \"/\":\n",
    "\n",
    "    print(x / y)\n",
    "\n",
    "else:\n",
    "\n",
    "    print(x % y)\n",
    "\n"
   ]
  },
  {
   "cell_type": "code",
   "execution_count": 93,
   "metadata": {},
   "outputs": [
    {
     "name": "stdout",
     "output_type": "stream",
     "text": [
      "Enter an integer valaue for x:  5\n",
      "Enter an integer valaue for y:  7\n",
      "Enter an integer valaue for z:  6\n"
     ]
    },
    {
     "ename": "NameError",
     "evalue": "name 'xyz' is not defined",
     "output_type": "error",
     "traceback": [
      "\u001b[1;31m---------------------------------------------------------------------------\u001b[0m",
      "\u001b[1;31mNameError\u001b[0m                                 Traceback (most recent call last)",
      "\u001b[1;32m<ipython-input-93-457d5c035889>\u001b[0m in \u001b[0;36m<module>\u001b[1;34m\u001b[0m\n\u001b[0;32m      3\u001b[0m \u001b[0mz\u001b[0m \u001b[1;33m=\u001b[0m \u001b[0mint\u001b[0m\u001b[1;33m(\u001b[0m\u001b[0minput\u001b[0m\u001b[1;33m(\u001b[0m\u001b[1;34m\"Enter an integer valaue for z:  \"\u001b[0m\u001b[1;33m)\u001b[0m\u001b[1;33m)\u001b[0m\u001b[1;33m\u001b[0m\u001b[1;33m\u001b[0m\u001b[0m\n\u001b[0;32m      4\u001b[0m \u001b[1;33m\u001b[0m\u001b[0m\n\u001b[1;32m----> 5\u001b[1;33m \u001b[0mprint\u001b[0m \u001b[1;33m(\u001b[0m\u001b[1;34m\"%6d%6d%6d\"\u001b[0m \u001b[1;33m%\u001b[0m \u001b[0mxyz\u001b[0m\u001b[1;33m)\u001b[0m\u001b[1;33m\u001b[0m\u001b[1;33m\u001b[0m\u001b[0m\n\u001b[0m",
      "\u001b[1;31mNameError\u001b[0m: name 'xyz' is not defined"
     ]
    }
   ],
   "source": [
    "x = int(input(\"Enter an integer valaue for x:  \"))\n",
    "y = int(input(\"Enter an integer valaue for y:  \"))\n",
    "z = int(input(\"Enter an integer valaue for z:  \"))\n",
    "\n",
    "print (\"%6d%6d%6d\" % xyz)"
   ]
  },
  {
   "cell_type": "code",
   "execution_count": 94,
   "metadata": {},
   "outputs": [
    {
     "name": "stdout",
     "output_type": "stream",
     "text": [
      "Enter an integer valaue for x:  5\n",
      "Enter an integer valaue for y:  7\n",
      "Enter an integer valaue for z:  6\n"
     ]
    },
    {
     "ename": "TypeError",
     "evalue": "not enough arguments for format string",
     "output_type": "error",
     "traceback": [
      "\u001b[1;31m---------------------------------------------------------------------------\u001b[0m",
      "\u001b[1;31mTypeError\u001b[0m                                 Traceback (most recent call last)",
      "\u001b[1;32m<ipython-input-94-2ff0a20b6196>\u001b[0m in \u001b[0;36m<module>\u001b[1;34m\u001b[0m\n\u001b[0;32m      3\u001b[0m \u001b[0mz\u001b[0m \u001b[1;33m=\u001b[0m \u001b[0mint\u001b[0m\u001b[1;33m(\u001b[0m\u001b[0minput\u001b[0m\u001b[1;33m(\u001b[0m\u001b[1;34m\"Enter an integer valaue for z:  \"\u001b[0m\u001b[1;33m)\u001b[0m\u001b[1;33m)\u001b[0m\u001b[1;33m\u001b[0m\u001b[1;33m\u001b[0m\u001b[0m\n\u001b[0;32m      4\u001b[0m \u001b[1;33m\u001b[0m\u001b[0m\n\u001b[1;32m----> 5\u001b[1;33m \u001b[0mprint\u001b[0m \u001b[1;33m(\u001b[0m\u001b[1;34m\"%6d%6d%6d\"\u001b[0m \u001b[1;33m%\u001b[0m \u001b[0mx\u001b[0m\u001b[1;33m)\u001b[0m\u001b[1;33m\u001b[0m\u001b[1;33m\u001b[0m\u001b[0m\n\u001b[0m",
      "\u001b[1;31mTypeError\u001b[0m: not enough arguments for format string"
     ]
    }
   ],
   "source": [
    "x = int(input(\"Enter an integer valaue for x:  \"))\n",
    "y = int(input(\"Enter an integer valaue for y:  \"))\n",
    "z = int(input(\"Enter an integer valaue for z:  \"))\n",
    "\n",
    "print (\"%6d%6d%6d\" % x)"
   ]
  },
  {
   "cell_type": "code",
   "execution_count": 95,
   "metadata": {},
   "outputs": [
    {
     "name": "stdout",
     "output_type": "stream",
     "text": [
      "Enter an integer valaue for x:  5\n",
      "Enter an integer valaue for y:  7\n",
      "Enter an integer valaue for z:  6\n"
     ]
    },
    {
     "ename": "TypeError",
     "evalue": "not enough arguments for format string",
     "output_type": "error",
     "traceback": [
      "\u001b[1;31m---------------------------------------------------------------------------\u001b[0m",
      "\u001b[1;31mTypeError\u001b[0m                                 Traceback (most recent call last)",
      "\u001b[1;32m<ipython-input-95-e98467ffa406>\u001b[0m in \u001b[0;36m<module>\u001b[1;34m\u001b[0m\n\u001b[0;32m      3\u001b[0m \u001b[0mz\u001b[0m \u001b[1;33m=\u001b[0m \u001b[0mint\u001b[0m\u001b[1;33m(\u001b[0m\u001b[0minput\u001b[0m\u001b[1;33m(\u001b[0m\u001b[1;34m\"Enter an integer valaue for z:  \"\u001b[0m\u001b[1;33m)\u001b[0m\u001b[1;33m)\u001b[0m\u001b[1;33m\u001b[0m\u001b[1;33m\u001b[0m\u001b[0m\n\u001b[0;32m      4\u001b[0m \u001b[1;33m\u001b[0m\u001b[0m\n\u001b[1;32m----> 5\u001b[1;33m \u001b[0mprint\u001b[0m \u001b[1;33m(\u001b[0m\u001b[1;34m\"%6d%6d%6d\"\u001b[0m \u001b[1;33m%\u001b[0m \u001b[0mx\u001b[0m \u001b[1;33m%\u001b[0m \u001b[0my\u001b[0m \u001b[1;33m%\u001b[0m \u001b[0mz\u001b[0m\u001b[1;33m)\u001b[0m\u001b[1;33m\u001b[0m\u001b[1;33m\u001b[0m\u001b[0m\n\u001b[0m",
      "\u001b[1;31mTypeError\u001b[0m: not enough arguments for format string"
     ]
    }
   ],
   "source": [
    "x = int(input(\"Enter an integer valaue for x:  \"))\n",
    "y = int(input(\"Enter an integer valaue for y:  \"))\n",
    "z = int(input(\"Enter an integer valaue for z:  \"))\n",
    "\n",
    "print (\"%6d%6d%6d\" % x % y % z)"
   ]
  },
  {
   "cell_type": "code",
   "execution_count": 96,
   "metadata": {},
   "outputs": [
    {
     "ename": "SyntaxError",
     "evalue": "unexpected EOF while parsing (<ipython-input-96-20787dc7fe0e>, line 5)",
     "output_type": "error",
     "traceback": [
      "\u001b[1;36m  File \u001b[1;32m\"<ipython-input-96-20787dc7fe0e>\"\u001b[1;36m, line \u001b[1;32m5\u001b[0m\n\u001b[1;33m    print (\"%6d%6d%6d\" % (x,y,z)\u001b[0m\n\u001b[1;37m                                ^\u001b[0m\n\u001b[1;31mSyntaxError\u001b[0m\u001b[1;31m:\u001b[0m unexpected EOF while parsing\n"
     ]
    }
   ],
   "source": [
    "x = int(input(\"Enter an integer valaue for x:  \"))\n",
    "y = int(input(\"Enter an integer valaue for y:  \"))\n",
    "z = int(input(\"Enter an integer valaue for z:  \"))\n",
    "\n",
    "print (\"%6d%6d%6d\" % (x,y,z)"
   ]
  },
  {
   "cell_type": "code",
   "execution_count": 97,
   "metadata": {},
   "outputs": [
    {
     "name": "stdout",
     "output_type": "stream",
     "text": [
      "Enter an integer valaue for x:  5\n",
      "Enter an integer valaue for y:  7\n",
      "Enter an integer valaue for z:  6\n",
      "     5     7     6\n"
     ]
    }
   ],
   "source": [
    "x = int(input(\"Enter an integer valaue for x:  \"))\n",
    "y = int(input(\"Enter an integer valaue for y:  \"))\n",
    "z = int(input(\"Enter an integer valaue for z:  \"))\n",
    "\n",
    "print (\"%6d%6d%6d\" % (x,y,z))"
   ]
  },
  {
   "cell_type": "code",
   "execution_count": 98,
   "metadata": {},
   "outputs": [
    {
     "name": "stdout",
     "output_type": "stream",
     "text": [
      "Enter an integer valaue for x:  5\n",
      "Enter an integer valaue for y:  7\n",
      "Enter an integer valaue for z:  6\n",
      "     5     7     6\n"
     ]
    }
   ],
   "source": [
    "# 3.2 - - Formatting text for Output - Question #3\n",
    "\n",
    "x = int(input(\"Enter an integer valaue for x:  \"))\n",
    "y = int(input(\"Enter an integer valaue for y:  \"))\n",
    "z = int(input(\"Enter an integer valaue for z:  \"))\n",
    "\n",
    "print (\"%6d%6d%6d\" % (x,y,z))"
   ]
  },
  {
   "cell_type": "code",
   "execution_count": 99,
   "metadata": {},
   "outputs": [
    {
     "name": "stdout",
     "output_type": "stream",
     "text": [
      "  105.240000\n",
      "50641.540000\n",
      "86732.590000\n"
     ]
    }
   ],
   "source": [
    "# 3.2 - Formatting text for Output - Question #4\n",
    "#Write a loop that outputs the numbers in a list named \"salaries.\" \n",
    "#The outputs should be formatted in a column that is right justified, with a field width of 12 and a precision of 2.\n",
    "\n",
    " #storing the values in salaries\n",
    "salaries=[105.2437,50641.54,86732.5868]\n",
    "\n",
    "#iterating the loop\n",
    "# and print the width of 12 and a precision of 2\n",
    "for sly in salaries:\n",
    "   print(\"%12f\"%round(sly,2))"
   ]
  },
  {
   "cell_type": "code",
   "execution_count": 100,
   "metadata": {},
   "outputs": [],
   "source": [
    "# 3.5 - Summary \n",
    "\n",
    "#    Control statements determine the order in which other statements are executed in a program. \n",
    "\n",
    "#    Definite iteration is the process of executing a set of statements a fixed, predictable number of times. The for loop is an easy and convenient control statement for describing a definite iteration. \n",
    "\n",
    "#   The for loop consists of a header and a set of statements called the body. The header contains information that controls the number of times that the body executes. \n",
    "\n",
    "#    The for loop can count through a series of integers. Such a loop is called a count-controlled loop. \n",
    "\n",
    "#    During the execution of a count-controlled for loop, the statements in the loop’s body can reference the current value of the count using the loop header’s variable. \n",
    "\n",
    "#    Python’s range function generates the sequence of numbers in a count-controlled for loop. This function can receive one, two, or three arguments. A single argument M specifies a sequence of numbers 0 through M – 1. Two arguments M and N specify a sequence of numbers M through N – 1. Three arguments M, N, and S specify a sequence of numbers M up through N – 1, stepping by S when S is positive, or M down through N – 1, stepping by S when S is negative. \n",
    "\n",
    "#    The for loop can traverse and visit the values in a sequence. Example sequences are a string of characters and a list of numbers. \n",
    "\n",
    "#    A format string and its operator % allow the programmer to format data using a field width and a precision. \n",
    "\n",
    "#    An off-by-one error occurs when a loop does not perform the intended number of iterations, there being one too many or one too few. This error can be caused by an incorrect lower bound or upper bound in a count-controlled loop. \n",
    "\n",
    "#    Boolean expressions contain the values True or False, variables bound to these values, comparisons using the relational operators, or other Boolean expressions using the logical operators. Boolean expressions evaluate to True or False and are used to form conditions in programs. \n",
    "\n",
    "#    The logical operators and, or, and not are used to construct compound Boolean expressions. The values of these expressions can be determined by constructing truth tables. \n",
    "\n",
    "#    Python uses short-circuit evaluation in compound Boolean expressions. The evaluation of the operands of or stops at the first true value, whereas the evaluation of the operands of and stops at the first false value.\n",
    "\n",
    "#    Selection statements are control statements that enable a program to make choices. A selection statement contains one or more conditions and the corresponding actions. Instead of moving straight ahead to the next action, the computer examines a condition. If the condition is true, the computer performs the corresponding action and then moves to the action following the selection statement. Otherwise, the computer moves to the next condition, if there is one, or to the action following the selection statement. \n",
    "\n",
    "#    A two-way selection statement, also called an if-else statement, has a single condition and two alternative courses of action. A one-way selection statement, also called an if statement, has a single condition and a single course of action. A multi-way selection statement, also called an extended if statement, has at least two conditions and three alternative courses of action. \n",
    "\n",
    "#    Conditional iteration is the process of executing a set of statements while a condition is true. The iteration stops when the condition becomes false. Because it cannot always be anticipated when this will occur, the number of iterations usually cannot be predicted. \n",
    "\n",
    "#    A while loop is used to describe conditional iteration. This loop consists of a header and a set of statements called the body. The header contains the loop’s continuation condition. The body executes as long as the continuation condition is true. \n",
    "\n",
    "#    The while loop is an entry-control loop. This means that the continuation condition is tested at loop entry, and if it is false, the loop’s body will not execute. Thus, the while loop can describe zero or more iterations. \n",
    "\n",
    "#    The break statement can be used to exit a while loop from its body. The break statement is usually used when the loop must perform at least one iteration. The loop header’s condition in that case is the value True. The break statement is nested in an if statement that tests for a termination condition. \n",
    "\n",
    "#    Any for loop can be converted to an equivalent while loop. In a count-controlled while loop, the programmer must initialize and update a loop control variable. \n",
    "\n",
    "#    An infinite loop occurs when the loop’s continuation condition never becomes false and no other exit points are provided. The primary cause of infinite loops is the programmer’s failure to update a loop control variable properly. \n",
    "\n",
    "#    The function random.randint returns a random number in the range specified by its two arguments."
   ]
  },
  {
   "cell_type": "code",
   "execution_count": 102,
   "metadata": {},
   "outputs": [
    {
     "name": "stdout",
     "output_type": "stream",
     "text": [
      "Input lengths of the triangle sides: \n",
      "x: 3\n",
      "y: 3\n",
      "z: 3\n",
      "Equilateral triangle\n"
     ]
    }
   ],
   "source": [
    "#3.6 - Loops and Selection Statements - Chapter Project \n",
    "\n",
    "print(\"Input the lengths of a triangle's sides: \")\n",
    "\n",
    "x = int(input(\"x: \"))\n",
    "y = int(input(\"y: \"))\n",
    "z = int(input(\"z: \"))\n",
    "\n",
    "#If all three sides are equal then it is a equilateral triangle.\n",
    "if x == y and y == z:\n",
    " print(\"Equilateral triangle\")\n",
    "else:\n",
    " print(\"Not Equilateral triangle\")"
   ]
  },
  {
   "cell_type": "code",
   "execution_count": 103,
   "metadata": {},
   "outputs": [
    {
     "name": "stdout",
     "output_type": "stream",
     "text": [
      "Input the lengths of a triangle's sides: \n",
      "x: 6\n",
      "y: 8\n",
      "z: 10\n",
      "The triangle is a right triangle.\n"
     ]
    }
   ],
   "source": [
    "\n",
    "#3.6 - Loops and Selection Statements - Chapter Project - Question #2\n",
    "\n",
    "#Prompt and read the sides of the triangle\n",
    "\n",
    "print(\"Input the lengths of a triangle's sides: \")\n",
    "\n",
    "x = int(input(\"x: \"))\n",
    "y = int(input(\"y: \"))\n",
    "z = int(input(\"z: \"))\n",
    "\n",
    "#check the pythogeorus theorem\n",
    "\n",
    "if ((x*x + y*y == z*z) or (y*y + z*z == x*x) or (z*z + x*x == y*y)):\n",
    "\n",
    "    #if condition is true, print the right triangle\n",
    "\n",
    "    #message\n",
    "\n",
    "   print(\"The triangle is a right triangle.\")\n",
    "\n",
    "#Otherwise print the not Right triangle message\n",
    "\n",
    "else:\n",
    "\n",
    "   print(\"The triangle is not a right triangle.\")"
   ]
  },
  {
   "cell_type": "code",
   "execution_count": 104,
   "metadata": {},
   "outputs": [
    {
     "name": "stdout",
     "output_type": "stream",
     "text": [
      "Enter the number of iterations: 3\n",
      "The approximation of pi is  3.466666666666667\n"
     ]
    }
   ],
   "source": [
    "# 3.6 - Loops and Selection Statements - Chapter Project - Question #3\n",
    "#The German mathematician Gottfried Leibniz developed the following method to approximate the value of π: \n",
    "\n",
    "#π/4 5 1 ] 1/3 1 1/5 ] 1/7 1 . . . \n",
    "\n",
    "#Write a program that allows the user to specify the number of iterations used in this approximation and that \n",
    "#displays the resulting value.\n",
    "\n",
    "#Prompt and read the number of iterations from the user.\n",
    "\n",
    "numOfIt = int(input(\"Enter the number of iterations: \"));\n",
    "\n",
    "#declare and initialize the variables.\n",
    "\n",
    "Pi_div_four = 0;\n",
    "\n",
    "itCounter = 1;\n",
    "\n",
    "#iterate the for loop.\n",
    "\n",
    "for i in range(1,numOfIt +1):\n",
    "\n",
    "    #Check the if value is odd.\n",
    "\n",
    "    if(i % 2 != 0):\n",
    "\n",
    "        #Compute the value of Pi_div_four.\n",
    "\n",
    "        Pi_div_four = Pi_div_four + 1 /itCounter;\n",
    "\n",
    "    #value is even\n",
    "\n",
    "    else:\n",
    "\n",
    "        #Compute the value of Pi_div_four.\n",
    "\n",
    "        Pi_div_four = Pi_div_four - 1 /itCounter;\n",
    "\n",
    "    #increase the current numOfIt by 2.\n",
    "\n",
    "    itCounter = itCounter + 2;\n",
    "\n",
    "#compute the value of pi.\n",
    "\n",
    "Pi_value = Pi_div_four*4;\n",
    "\n",
    "#display the value of pi.\n",
    "\n",
    "print(\"The approximation of pi is \",Pi_value)"
   ]
  },
  {
   "cell_type": "code",
   "execution_count": 105,
   "metadata": {},
   "outputs": [
    {
     "name": "stdout",
     "output_type": "stream",
     "text": [
      "Enter number:7\n",
      "5040\n"
     ]
    }
   ],
   "source": [
    "# 3.4 - Conditional Iteration: The While loop - Question #4\n",
    "# The factorial of an integer N is the product of the integers between 1 and N, inclusive. \n",
    "# Write a while loop that computes the factorial of a given integer N.\n",
    "\n",
    "\n",
    "number = int(input(\"Enter number:\"))\n",
    "factorial = 1\n",
    "while number>0:\n",
    "    factorial = factorial * number\n",
    "    number = number - 1\n",
    "print(factorial)"
   ]
  },
  {
   "cell_type": "code",
   "execution_count": 107,
   "metadata": {},
   "outputs": [
    {
     "name": "stdout",
     "output_type": "stream",
     "text": [
      "Enter N, whose log you want to find: 100\n",
      "Approximate log value computed: 7\n",
      "Using: round(math.log(N, 2)):  7\n"
     ]
    }
   ],
   "source": [
    "# 3.4 - Conditional Iteration: The While loop - Question #5\n",
    "#The log2 of a given number N is given by M in the equation N = 2M. \n",
    "#Using integer arithmetic, the value of M is approximately equal to \n",
    "#the number of times N can be evenly divided by 2 until it becomes 0. \n",
    "#Write a loop that computes this approximation of the log2 of a given number N. \n",
    "#You can check your code by importing the math.log function and evaluating the expression round(math.log(N, 2)) \n",
    "#(note that the math.log function returns a floating-point value).\n",
    "\n",
    "import math\n",
    "\n",
    "n = int(input('Enter N, whose log you want to find: '))\n",
    "m = 0\n",
    "original = n\n",
    "\n",
    "while n != 0:\n",
    "        m += 1\n",
    "        n = n // 2\n",
    "\n",
    "print('Approximate log value computed:', m)\n",
    "print('Using: round(math.log(N, 2)): ', round(math.log(original, 2)))"
   ]
  },
  {
   "cell_type": "code",
   "execution_count": null,
   "metadata": {},
   "outputs": [],
   "source": []
  }
 ],
 "metadata": {
  "kernelspec": {
   "display_name": "Python 3",
   "language": "python",
   "name": "python3"
  },
  "language_info": {
   "codemirror_mode": {
    "name": "ipython",
    "version": 3
   },
   "file_extension": ".py",
   "mimetype": "text/x-python",
   "name": "python",
   "nbconvert_exporter": "python",
   "pygments_lexer": "ipython3",
   "version": "3.8.3"
  }
 },
 "nbformat": 4,
 "nbformat_minor": 4
}
