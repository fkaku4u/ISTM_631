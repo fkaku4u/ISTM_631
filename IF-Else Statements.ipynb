{
 "cells": [
  {
   "cell_type": "code",
   "execution_count": 4,
   "metadata": {},
   "outputs": [
    {
     "name": "stdout",
     "output_type": "stream",
     "text": [
      "a is less than b\n",
      "a is definateley less than b\n",
      "Not sure if a is less than b\n"
     ]
    }
   ],
   "source": [
    "a = 1 \n",
    "b = 2\n",
    "if a < b:\n",
    "    print (\"a is less than b\")\n",
    "    print (\"a is definateley less than b\")\n",
    "print (\"Not sure if a is less than b\")"
   ]
  },
  {
   "cell_type": "code",
   "execution_count": 6,
   "metadata": {},
   "outputs": [
    {
     "name": "stdout",
     "output_type": "stream",
     "text": [
      "c is NOT less than d\n",
      "I don't think c is less than d\n",
      "outside the if block\n"
     ]
    }
   ],
   "source": [
    "c = 5\n",
    "d = 4\n",
    "if c < d:\n",
    "    print(\"c is less than d\")\n",
    "else:\n",
    "    print (\"c is NOT less than d\")\n",
    "    print (\"I don't think c is less than d\")\n",
    "print(\"outside the if block\")"
   ]
  },
  {
   "cell_type": "code",
   "execution_count": 25,
   "metadata": {},
   "outputs": [
    {
     "name": "stdout",
     "output_type": "stream",
     "text": [
      "e is greater than f by more than 10\n",
      "outside the if block\n"
     ]
    }
   ],
   "source": [
    "e = 20\n",
    "f = 8\n",
    "if e < f:\n",
    "    print (\"e is less than f\")\n",
    "elif e == f:\n",
    "    print (\"e is equal to f\")\n",
    "elif e > f + 10:\n",
    "    print(\"e is greater than f by more than 10\")\n",
    "else:\n",
    "    print (\"e is greater than f\")\n",
    "print (\"outside the if block\")\n",
    "    \n"
   ]
  },
  {
   "cell_type": "code",
   "execution_count": 28,
   "metadata": {},
   "outputs": [
    {
     "name": "stdout",
     "output_type": "stream",
     "text": [
      "g is greater than h\n",
      "outside of the if block\n"
     ]
    }
   ],
   "source": [
    "h = 8\n",
    "g = 10\n",
    "\n",
    "if g < h:\n",
    "    print (\"g is less than h\")\n",
    "else:\n",
    "    if g == h:\n",
    "        print (\"g is equal to h\")\n",
    "    else:\n",
    "        print (\"g is greater than h\")\n",
    "print(\"outside of the if block\")\n"
   ]
  },
  {
   "cell_type": "code",
   "execution_count": 34,
   "metadata": {},
   "outputs": [
    {
     "name": "stdout",
     "output_type": "stream",
     "text": [
      "bmi:\n",
      "27.5\n",
      "yk\n",
      "is overweight\n"
     ]
    }
   ],
   "source": [
    "#Creating a BMI calculator\n",
    "\n",
    "name = \"yk\"\n",
    "height_m = 2\n",
    "weight_kg = 110\n",
    "\n",
    "bmi = weight_kg / (height_m **2)\n",
    "print(\"bmi:\")\n",
    "print (bmi)\n",
    "if bmi < 25:\n",
    "    print (name)\n",
    "    print (\"is not overweight\")\n",
    "else:\n",
    "    print (name)\n",
    "    print (\"is overweight\")"
   ]
  },
  {
   "cell_type": "code",
   "execution_count": null,
   "metadata": {},
   "outputs": [],
   "source": []
  }
 ],
 "metadata": {
  "kernelspec": {
   "display_name": "Python 3",
   "language": "python",
   "name": "python3"
  },
  "language_info": {
   "codemirror_mode": {
    "name": "ipython",
    "version": 3
   },
   "file_extension": ".py",
   "mimetype": "text/x-python",
   "name": "python",
   "nbconvert_exporter": "python",
   "pygments_lexer": "ipython3",
   "version": "3.8.3"
  }
 },
 "nbformat": 4,
 "nbformat_minor": 4
}
